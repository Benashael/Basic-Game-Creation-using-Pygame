{
 "cells": [
  {
   "cell_type": "markdown",
   "metadata": {},
   "source": [
    "# Basic Game Creation using Pygame"
   ]
  },
  {
   "cell_type": "code",
   "execution_count": 3,
   "metadata": {},
   "outputs": [
    {
     "name": "stdout",
     "output_type": "stream",
     "text": [
      "Requirement already satisfied: pygame in c:\\users\\ben ashael\\anaconda3\\lib\\site-packages (2.2.0)\n"
     ]
    }
   ],
   "source": [
    "!pip install pygame "
   ]
  },
  {
   "cell_type": "code",
   "execution_count": null,
   "metadata": {},
   "outputs": [
    {
     "name": "stdout",
     "output_type": "stream",
     "text": [
      "pygame 2.2.0 (SDL 2.0.22, Python 3.7.3)\n",
      "Hello from the pygame community. https://www.pygame.org/contribute.html\n"
     ]
    }
   ],
   "source": [
    "import pygame\n",
    "\n",
    "# initialize Pygame\n",
    "pygame.init()\n",
    "\n",
    "# set the width and height of the screen\n",
    "screen_width = 800\n",
    "screen_height = 600\n",
    "screen = pygame.display.set_mode((screen_width, screen_height))\n",
    "\n",
    "# set the title of the game\n",
    "pygame.display.set_caption(\"My Game\")\n",
    "\n",
    "# define colors\n",
    "black = (0, 0, 0)\n",
    "white = (255, 255, 255)\n",
    "\n",
    "# set up the game loop\n",
    "clock = pygame.time.Clock()\n",
    "game_over = False\n",
    "\n",
    "# main game loop\n",
    "while not game_over:\n",
    "    # handle events\n",
    "    for event in pygame.event.get():\n",
    "        if event.type == pygame.QUIT:\n",
    "            game_over = True\n",
    "    \n",
    "    # fill the screen with white\n",
    "    screen.fill(white)\n",
    "    \n",
    "    # draw game objects\n",
    "    \n",
    "    # update the screen\n",
    "    pygame.display.update()\n",
    "    \n",
    "    # set the frame rate\n",
    "    clock.tick(60)\n",
    "\n",
    "# quit Pygame\n",
    "pygame.quit()\n",
    "quit()"
   ]
  }
 ],
 "metadata": {
  "kernelspec": {
   "display_name": "Python 3",
   "language": "python",
   "name": "python3"
  },
  "language_info": {
   "codemirror_mode": {
    "name": "ipython",
    "version": 3
   },
   "file_extension": ".py",
   "mimetype": "text/x-python",
   "name": "python",
   "nbconvert_exporter": "python",
   "pygments_lexer": "ipython3",
   "version": "3.7.3"
  }
 },
 "nbformat": 4,
 "nbformat_minor": 2
}
